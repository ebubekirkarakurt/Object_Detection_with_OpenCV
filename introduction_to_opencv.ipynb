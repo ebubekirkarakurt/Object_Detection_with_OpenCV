{
 "cells": [
  {
   "cell_type": "code",
   "execution_count": null,
   "id": "79a6cc34",
   "metadata": {},
   "outputs": [],
   "source": [
    "# Libraries \n",
    "\n",
    "# pip install opencv-python \n",
    "import cv2 \n",
    "# pip install numpy\n",
    "import numpy as np "
   ]
  },
  {
   "cell_type": "code",
   "execution_count": null,
   "id": "00d3ba8f",
   "metadata": {},
   "outputs": [],
   "source": [
    "# reading, saving, displaying images\n",
    "\n",
    "img = cv2.imread('your path')\n",
    "\n",
    "cv2.imshow('img', img)\n",
    "cv2.waitKey(0)\n",
    "cv2.destroyAllWindows()\n"
   ]
  },
  {
   "cell_type": "code",
   "execution_count": null,
   "id": "8bbab9cd",
   "metadata": {},
   "outputs": [],
   "source": [
    "# scaling\n",
    "\n",
    "img = cv2.imread('your path')\n",
    "\n",
    "resized_img = cv2.resize(img, (120,200))\n",
    "\n",
    "print(\"Original image: \", img.shape)\n",
    "print(\"Resized image: \", resized_img.shape)\n",
    "\n",
    "cv2.imshow(\"Original image: \", img)\n",
    "cv2.imshow(\"Resized image: \", resized_image)\n",
    "\n",
    "\n",
    "cv2.waitKey(0)\n",
    "cv2.destroyAllWindows()\n"
   ]
  },
  {
   "cell_type": "code",
   "execution_count": null,
   "id": "1652f69f",
   "metadata": {},
   "outputs": [],
   "source": [
    "# roi (region of interest)\n",
    "\n",
    "img = cv2.imread('your path')\n",
    "\n",
    "face = img[120:200, 200:300] # (x,y) \n",
    "\n",
    "cv2.imshow(\"Image: \", img)\n",
    "\n",
    "cv2.waitKey(0)\n",
    "cv2.destroyAllWindows()\n"
   ]
  },
  {
   "cell_type": "code",
   "execution_count": null,
   "id": "341eca93",
   "metadata": {},
   "outputs": [],
   "source": [
    "# colorspaces\n",
    "\n",
    "img = cv2.imread('your path')\n",
    "print(\"Original image: \", img.shape)\n",
    "\n",
    "gray = cv2.cvtColor(img, cv2.COLOR_BGR2GRAY)\n",
    "print(\"Grayscale image: \", gray.shape)\n",
    "\n",
    "rgb = cv2.cvtColor(img, cv2.COLOR_BGR2RGB)\n",
    "print(\"RGB image: \", rgb.shape)\n",
    "\n",
    "hsv = cv2.cvtColor(img, cv2.COLOR_BGR2HSV)\n",
    "print(\"HSV image: \", hsv.shape)\n",
    "\n",
    "\n",
    "cv2.imshow(\"Original image: \", img)\n",
    "cv2.imshow(\"GrayScale image: \", gray)\n",
    "cv2.imshow(\"RGB image: \", rgb)\n",
    "cv2.imshow(\"HSV image: \", hsv)\n",
    "\n",
    "cv2.waitKey(0)\n",
    "cv2.destroyAllWindows()"
   ]
  },
  {
   "cell_type": "code",
   "execution_count": null,
   "id": "08314572",
   "metadata": {},
   "outputs": [],
   "source": [
    "# Drawing function - Line\n",
    "\n",
    "color = (255,255,0)\n",
    "canva = np.zeros((512,512,3), dtype=np.uint8)+100\n",
    "#print('Canva Image: ' canva.shape)\n",
    "\n",
    "cv2.line(canva, (0,0), (200,250), color, 2)\n",
    "\n",
    "cv2.imshow(\"Circle\", canva)\n",
    "cv2.waitKey(0)\n",
    "cv2.destroyAllWindows()\n",
    "\n"
   ]
  },
  {
   "cell_type": "code",
   "execution_count": null,
   "id": "e4afd017",
   "metadata": {},
   "outputs": [],
   "source": [
    "# Drawing function - Circle\n",
    "\n",
    "color = (255,255,0)\n",
    "canva = np.zeros((512,512,3), dtype=np.uint8)+100\n",
    "#print('Canva Image: ' canva.shape)\n",
    "\n",
    "cv2.circle(canva, (0,0), (200,250), color, 2)\n",
    "\n",
    "cv2.imshow(\"Circle\", canva)\n",
    "cv2.waitKey(0)\n",
    "cv2.destroyAllWindows()\n"
   ]
  },
  {
   "cell_type": "code",
   "execution_count": null,
   "id": "6cff1d06",
   "metadata": {},
   "outputs": [],
   "source": [
    "# Drawing function - Rectangle\n",
    "\n",
    "color = (255,255,0)\n",
    "canva = np.zeros((512,512,3), dtype=np.uint8)+100\n",
    "#print('Canva Image: ' canva.shape)\n",
    "\n",
    "cv2.rectangle(canva, (0,0), (200,250), color, 2)\n",
    "cv2.rectangle(canva, (0,0), (200,250), color, -1) \n",
    "\n",
    "cv2.imshow(\"Circle\", canva)\n",
    "cv2.waitKey(0)\n",
    "cv2.destroyAllWindows()\n"
   ]
  },
  {
   "cell_type": "code",
   "execution_count": null,
   "id": "08254e28",
   "metadata": {},
   "outputs": [],
   "source": [
    "# Drawing function - Text\n",
    "\n",
    "\"\"\"\n",
    "\n",
    " \tFONT_HERSHEY_SIMPLEX        \n",
    "    FONT_HERSHEY_PLAIN          \n",
    "    FONT_HERSHEY_DUPLEX         \n",
    "    FONT_HERSHEY_COMPLEX        \n",
    "    FONT_HERSHEY_TRIPLEX        \n",
    "    FONT_HERSHEY_COMPLEX_SMALL  \n",
    "    FONT_HERSHEY_SCRIPT_SIMPLEX \n",
    "    FONT_HERSHEY_SCRIPT_COMPLEX \n",
    "    FONT_ITALIC   \n",
    "\n",
    "example:\n",
    "\n",
    "cv2.FONT_HERSHEY_PLAIN\n",
    "\n",
    "\"\"\"\n",
    "\n",
    "\n",
    "\n",
    "color = (255,255,0)\n",
    "font = cv2.FONT_HERSHEY_SIMPLE\n",
    "font_scale = 2\n",
    "thichkness = 2\n",
    "line_type = cv2.LINE_AA\n",
    "\n",
    "canva = np.zeros((512,512,3), dtype=np.uint8)+255 #(0,0,0) --> (255,255,255)\n",
    "#print('Canva Image: ' canva.shape)\n",
    "\n",
    "cv2.putText(canva, \"Introduxtion to Opencv\", (100,150), font,font_scale, color,thickness, 2)\n",
    "\n",
    "\n",
    "cv2.imshow(\"Circle\", canva)\n",
    "cv2.waitKey(0)\n",
    "cv2.destroyAllWindows()\n"
   ]
  },
  {
   "cell_type": "code",
   "execution_count": null,
   "id": "7cddacbf",
   "metadata": {},
   "outputs": [],
   "source": [
    "# Video\n",
    "\n",
    "import cv2 \n",
    "\n",
    "capture = cv2.VideoCapture(\"your path\") # or 0 (for wabcam)\n",
    "\n",
    "\n",
    "while True:\n",
    "    \n",
    "    ret, frame = cv2.read()\n",
    "    \n",
    "    if ret is False:\n",
    "        break\n",
    "    \n",
    "    cv2.imshow('Video', frame)\n",
    "    \n",
    "    if cv2.waitKey(30) & 0xFF == ord('q'):\n",
    "        break\n",
    "        \n",
    "        \n",
    "capture.release()\n",
    "cv2.destroyAllWindows()\n"
   ]
  }
 ],
 "metadata": {
  "kernelspec": {
   "display_name": "Python 3 (ipykernel)",
   "language": "python",
   "name": "python3"
  },
  "language_info": {
   "codemirror_mode": {
    "name": "ipython",
    "version": 3
   },
   "file_extension": ".py",
   "mimetype": "text/x-python",
   "name": "python",
   "nbconvert_exporter": "python",
   "pygments_lexer": "ipython3",
   "version": "3.9.13"
  }
 },
 "nbformat": 4,
 "nbformat_minor": 5
}
